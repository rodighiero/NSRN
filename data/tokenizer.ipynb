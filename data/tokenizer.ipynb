{
 "metadata": {
  "language_info": {
   "codemirror_mode": {
    "name": "ipython",
    "version": 3
   },
   "file_extension": ".py",
   "mimetype": "text/x-python",
   "name": "python",
   "nbconvert_exporter": "python",
   "pygments_lexer": "ipython3",
   "version": "3.8.5-final"
  },
  "orig_nbformat": 2,
  "kernelspec": {
   "name": "python38864bitbasevirtualenv5223d6103b7a49faac888ff1fb3c7e01",
   "display_name": "Python 3.8.8 64-bit ('base': virtualenv)"
  }
 },
 "nbformat": 4,
 "nbformat_minor": 2,
 "cells": [
  {
   "cell_type": "code",
   "execution_count": 5,
   "metadata": {},
   "outputs": [],
   "source": [
    "import numpy as np\n",
    "import pandas as pd\n",
    "import spacy\n",
    "\n",
    "from autocorrect import Speller\n",
    "spell = Speller()\n",
    "\n",
    "# import gensim\n",
    "# import gensim.corpora as corpora\n",
    "# from gensim.utils import simple_preprocess\n",
    "# from gensim.models import CoherenceModel\n",
    "\n",
    "from tqdm import tqdm_notebook as tqdm\n",
    "from pprint import pprint\n"
   ]
  },
  {
   "cell_type": "code",
   "execution_count": 6,
   "metadata": {},
   "outputs": [
    {
     "output_type": "execute_result",
     "data": {
      "text/plain": [
       "                                               Title  Author 1  \\\n",
       "0  Believing in belonging': Researching belief wi...  Abby Day   \n",
       "\n",
       "         Affiliation A1 Country A1 Gender A1 Author 2 Affiliation A2  \\\n",
       "0  University of Sussex    England         F        .              .   \n",
       "\n",
       "  Country A2 Gender A2 Author 3  ... Country A7 Gender A7  \\\n",
       "0          .         .        .  ...          .         .   \n",
       "\n",
       "                                            Abstract  Year        Type  \\\n",
       "0  A unique research method was designed to answe...  2009  Conference   \n",
       "\n",
       "                       Conference/workshop/... title Volume Special issue  \\\n",
       "0  Non-religion and Secularity: New Empirical Per...      .             .   \n",
       "\n",
       "  Blog extract                                             lemmas  \n",
       "0            .  belief,question,research,method,question,peopl...  \n",
       "\n",
       "[1 rows x 37 columns]"
      ],
      "text/html": "<div>\n<style scoped>\n    .dataframe tbody tr th:only-of-type {\n        vertical-align: middle;\n    }\n\n    .dataframe tbody tr th {\n        vertical-align: top;\n    }\n\n    .dataframe thead th {\n        text-align: right;\n    }\n</style>\n<table border=\"1\" class=\"dataframe\">\n  <thead>\n    <tr style=\"text-align: right;\">\n      <th></th>\n      <th>Title</th>\n      <th>Author 1</th>\n      <th>Affiliation A1</th>\n      <th>Country A1</th>\n      <th>Gender A1</th>\n      <th>Author 2</th>\n      <th>Affiliation A2</th>\n      <th>Country A2</th>\n      <th>Gender A2</th>\n      <th>Author 3</th>\n      <th>...</th>\n      <th>Country A7</th>\n      <th>Gender A7</th>\n      <th>Abstract</th>\n      <th>Year</th>\n      <th>Type</th>\n      <th>Conference/workshop/... title</th>\n      <th>Volume</th>\n      <th>Special issue</th>\n      <th>Blog extract</th>\n      <th>lemmas</th>\n    </tr>\n  </thead>\n  <tbody>\n    <tr>\n      <th>0</th>\n      <td>Believing in belonging': Researching belief wi...</td>\n      <td>Abby Day</td>\n      <td>University of Sussex</td>\n      <td>England</td>\n      <td>F</td>\n      <td>.</td>\n      <td>.</td>\n      <td>.</td>\n      <td>.</td>\n      <td>.</td>\n      <td>...</td>\n      <td>.</td>\n      <td>.</td>\n      <td>A unique research method was designed to answe...</td>\n      <td>2009</td>\n      <td>Conference</td>\n      <td>Non-religion and Secularity: New Empirical Per...</td>\n      <td>.</td>\n      <td>.</td>\n      <td>.</td>\n      <td>belief,question,research,method,question,peopl...</td>\n    </tr>\n  </tbody>\n</table>\n<p>1 rows × 37 columns</p>\n</div>"
     },
     "metadata": {},
     "execution_count": 6
    }
   ],
   "source": [
    "csv = pd.read_csv('metadata.csv')\n",
    "csv.head(1)"
   ]
  },
  {
   "cell_type": "code",
   "execution_count": 7,
   "metadata": {},
   "outputs": [
    {
     "output_type": "execute_result",
     "data": {
      "text/plain": [
       "                                               Title            Author 1  \\\n",
       "0  Believing in belonging': Researching belief wi...            Abby Day   \n",
       "1  Members of Atheist/Freethought/Secularist orga...      Björn Mastiaux   \n",
       "2                                     A secular mind  Jonathan A. Lanman   \n",
       "3  Theoretical and methodological resources for b...           Kim Knott   \n",
       "4  Supernatural agency detection in random visual...      Kirsten Barnes   \n",
       "\n",
       "             Affiliation A1 Country A1 Gender A1 Author 2 Affiliation A2  \\\n",
       "0      University of Sussex    England         F        .              .   \n",
       "1  University of Düsseldorf    Germany         M        .              .   \n",
       "2      University of Oxford    England         M        .              .   \n",
       "3       University of Leeds    England         F        .              .   \n",
       "4   University of Cambridge    England         F        .              .   \n",
       "\n",
       "  Country A2 Gender A2 Author 3  ... Country A7 Gender A7  \\\n",
       "0          .         .        .  ...          .         .   \n",
       "1          .         .        .  ...          .         .   \n",
       "2          .         .        .  ...          .         .   \n",
       "3          .         .        .  ...          .         .   \n",
       "4          .         .        .  ...          .         .   \n",
       "\n",
       "                                            Abstract  Year        Type  \\\n",
       "0  A unique research method was designed to answe...  2009  Conference   \n",
       "1  I would like to contribute a paper documenting...  2009  Conference   \n",
       "2  Cognitive anthropologists argue that we can be...  2009  Conference   \n",
       "3  The secular condition, secularism and the asso...  2009  Conference   \n",
       "4  Within the cognitive science of religion it ha...  2009  Conference   \n",
       "\n",
       "                       Conference/workshop/... title Volume Special issue  \\\n",
       "0  Non-religion and Secularity: New Empirical Per...      .             .   \n",
       "1  Non-religion and Secularity: New Empirical Per...      .             .   \n",
       "2  Non-religion and Secularity: New Empirical Per...      .             .   \n",
       "3  Non-religion and Secularity: New Empirical Per...      .             .   \n",
       "4  Non-religion and Secularity: New Empirical Per...      .             .   \n",
       "\n",
       "  Blog extract                                             lemmas  \n",
       "0            .  belonging,belief,question,research,method,ques...  \n",
       "1            .  member,organization,germany,state,paper,resear...  \n",
       "2            .  mind,anthropologist,question,insight,science,b...  \n",
       "3            .  resource,boundary,religion,non,religion,condit...  \n",
       "4            .  agency,detection,noise,science,religion,belief...  \n",
       "\n",
       "[5 rows x 37 columns]"
      ],
      "text/html": "<div>\n<style scoped>\n    .dataframe tbody tr th:only-of-type {\n        vertical-align: middle;\n    }\n\n    .dataframe tbody tr th {\n        vertical-align: top;\n    }\n\n    .dataframe thead th {\n        text-align: right;\n    }\n</style>\n<table border=\"1\" class=\"dataframe\">\n  <thead>\n    <tr style=\"text-align: right;\">\n      <th></th>\n      <th>Title</th>\n      <th>Author 1</th>\n      <th>Affiliation A1</th>\n      <th>Country A1</th>\n      <th>Gender A1</th>\n      <th>Author 2</th>\n      <th>Affiliation A2</th>\n      <th>Country A2</th>\n      <th>Gender A2</th>\n      <th>Author 3</th>\n      <th>...</th>\n      <th>Country A7</th>\n      <th>Gender A7</th>\n      <th>Abstract</th>\n      <th>Year</th>\n      <th>Type</th>\n      <th>Conference/workshop/... title</th>\n      <th>Volume</th>\n      <th>Special issue</th>\n      <th>Blog extract</th>\n      <th>lemmas</th>\n    </tr>\n  </thead>\n  <tbody>\n    <tr>\n      <th>0</th>\n      <td>Believing in belonging': Researching belief wi...</td>\n      <td>Abby Day</td>\n      <td>University of Sussex</td>\n      <td>England</td>\n      <td>F</td>\n      <td>.</td>\n      <td>.</td>\n      <td>.</td>\n      <td>.</td>\n      <td>.</td>\n      <td>...</td>\n      <td>.</td>\n      <td>.</td>\n      <td>A unique research method was designed to answe...</td>\n      <td>2009</td>\n      <td>Conference</td>\n      <td>Non-religion and Secularity: New Empirical Per...</td>\n      <td>.</td>\n      <td>.</td>\n      <td>.</td>\n      <td>belonging,belief,question,research,method,ques...</td>\n    </tr>\n    <tr>\n      <th>1</th>\n      <td>Members of Atheist/Freethought/Secularist orga...</td>\n      <td>Björn Mastiaux</td>\n      <td>University of Düsseldorf</td>\n      <td>Germany</td>\n      <td>M</td>\n      <td>.</td>\n      <td>.</td>\n      <td>.</td>\n      <td>.</td>\n      <td>.</td>\n      <td>...</td>\n      <td>.</td>\n      <td>.</td>\n      <td>I would like to contribute a paper documenting...</td>\n      <td>2009</td>\n      <td>Conference</td>\n      <td>Non-religion and Secularity: New Empirical Per...</td>\n      <td>.</td>\n      <td>.</td>\n      <td>.</td>\n      <td>member,organization,germany,state,paper,resear...</td>\n    </tr>\n    <tr>\n      <th>2</th>\n      <td>A secular mind</td>\n      <td>Jonathan A. Lanman</td>\n      <td>University of Oxford</td>\n      <td>England</td>\n      <td>M</td>\n      <td>.</td>\n      <td>.</td>\n      <td>.</td>\n      <td>.</td>\n      <td>.</td>\n      <td>...</td>\n      <td>.</td>\n      <td>.</td>\n      <td>Cognitive anthropologists argue that we can be...</td>\n      <td>2009</td>\n      <td>Conference</td>\n      <td>Non-religion and Secularity: New Empirical Per...</td>\n      <td>.</td>\n      <td>.</td>\n      <td>.</td>\n      <td>mind,anthropologist,question,insight,science,b...</td>\n    </tr>\n    <tr>\n      <th>3</th>\n      <td>Theoretical and methodological resources for b...</td>\n      <td>Kim Knott</td>\n      <td>University of Leeds</td>\n      <td>England</td>\n      <td>F</td>\n      <td>.</td>\n      <td>.</td>\n      <td>.</td>\n      <td>.</td>\n      <td>.</td>\n      <td>...</td>\n      <td>.</td>\n      <td>.</td>\n      <td>The secular condition, secularism and the asso...</td>\n      <td>2009</td>\n      <td>Conference</td>\n      <td>Non-religion and Secularity: New Empirical Per...</td>\n      <td>.</td>\n      <td>.</td>\n      <td>.</td>\n      <td>resource,boundary,religion,non,religion,condit...</td>\n    </tr>\n    <tr>\n      <th>4</th>\n      <td>Supernatural agency detection in random visual...</td>\n      <td>Kirsten Barnes</td>\n      <td>University of Cambridge</td>\n      <td>England</td>\n      <td>F</td>\n      <td>.</td>\n      <td>.</td>\n      <td>.</td>\n      <td>.</td>\n      <td>.</td>\n      <td>...</td>\n      <td>.</td>\n      <td>.</td>\n      <td>Within the cognitive science of religion it ha...</td>\n      <td>2009</td>\n      <td>Conference</td>\n      <td>Non-religion and Secularity: New Empirical Per...</td>\n      <td>.</td>\n      <td>.</td>\n      <td>.</td>\n      <td>agency,detection,noise,science,religion,belief...</td>\n    </tr>\n  </tbody>\n</table>\n<p>5 rows × 37 columns</p>\n</div>"
     },
     "metadata": {},
     "execution_count": 7
    }
   ],
   "source": [
    "# nlp = spacy.load(\"en_core_web_sm\")\n",
    "# nlp = spacy.load(\"en_core_web_lg\")\n",
    "nlp = spacy.load(\"en_core_web_trf\")\n",
    "\n",
    "stopList_byType = ['ADV', 'PUNCT' , 'ADP', 'DET', 'NUM', 'SYM', 'SPACE', 'SCONJ', 'AUX', 'PART', 'CCONJ', 'PRON', 'ADJ', 'VERB']\n",
    "\n",
    "doc_list = []\n",
    "\n",
    "for index, row in csv.iterrows():\n",
    "\n",
    "    string = row['Title'].lower() + '. ' + row['Abstract'].lower() + '. ' + row['Blog extract'].lower()\n",
    "    doc = nlp(string)\n",
    "\n",
    "    lemmas = ''\n",
    "    \n",
    "    for i, token in enumerate(doc):\n",
    "        \n",
    "        if not token.pos_ in stopList_byType and not token.is_stop and len(token.lemma_) > 2 and len(token.lemma_) < 16:\n",
    "\n",
    "            if len(lemmas) == 0:\n",
    "                lemmas = token.lemma_\n",
    "            else:\n",
    "                lemmas += ',' + token.lemma_\n",
    "\n",
    "    csv.loc[index, 'lemmas'] = lemmas\n",
    "    doc_list.append(lemmas.split(','))\n",
    "\n",
    "csv.to_csv('metadata.csv', index=False)\n",
    "\n",
    "csv.head()"
   ]
  },
  {
   "cell_type": "code",
   "execution_count": null,
   "metadata": {},
   "outputs": [],
   "source": []
  }
 ]
}